{
 "cells": [
  {
   "cell_type": "markdown",
   "id": "5cef1b8f-ba12-4c18-a63d-b2dc7be75bea",
   "metadata": {},
   "source": [
    "The LITES model is a central application used by the XVA Trading Desk to calculate and allocate valuation adjustments across asset classes, and by Valuation Product Control (VPC) to generate an independent view of Front Office results through EnLITEN. These outputs serve two main business purposes:\n",
    "\n",
    "Risk Management and Performance Monitoring – XVA results, together with PAA (Profit Attribution Analysis), allow the desk to attribute daily P&L to key risk factors. This enables traders and controllers to identify whether changes in P&L are driven by expected sensitivities (e.g., delta, vega, credit spreads) or unexplained residuals.\n",
    "\n",
    "Regulatory and Control Processes – PAA forms an integral part of the model performance monitoring framework. VPC relies on these outputs in its monthly Operational Control Summary and in regulatory reporting processes to demonstrate that XVA models are functioning as intended, with unexplained P&L remaining within acceptable tolerance levels.\n",
    "\n",
    "The issue identified by MRM—that LITES was unable to calculate XVA PAA for equity products—impacted the second dimension above (performance monitoring and controls) rather than the actual model valuation output. While the valuation of equity-linked XVA exposures was captured correctly, the absence of equity risk factors from PAA meant that movements in equity portfolios could appear as unexplained P&L. This reduced transparency in performance attribution and created the potential for control gaps, especially in scenarios where equity exposures grew in size or volatility.\n",
    "\n",
    "Although the materiality of equity exposures was historically low (due to ECCH trades being excluded from LITES and handled separately), the lack of equity PAA limited the ability of VPC to fully validate and explain daily P&L movements. This increased reliance on manual monitoring of portfolio size and risk, and represented a recurring Severity 3 control issue in validation reviews until the recent remediation steps"
   ]
  },
  {
   "cell_type": "markdown",
   "id": "39460a57-3f39-4138-a8e2-1021252bf293",
   "metadata": {},
   "source": [
    "# summarize the model framework (in no more than a few succinct sentences) the model framework  to show how it relates to the issue remediation"
   ]
  },
  {
   "cell_type": "markdown",
   "id": "d2b1f0f8-11b9-4f84-b792-eb6d3297cee1",
   "metadata": {},
   "source": [
    "The LITES framework combines exposure simulation, aggregation, and XVA calculation, with PAA functionality providing attribution of daily P&L to risk sensitivities across asset classes. While valuations for equity-linked XVA exposures were captured within this framework, the PAA component was unable to generate equity sensitivities, leaving equity-driven P&L unexplained. The remediation extended the framework by adding equity delta shocks for single-name exposures and establishing monitoring thresholds, thereby closing the gap between valuation and performance attribution."
   ]
  },
  {
   "cell_type": "markdown",
   "id": "d8946d4c-7aea-4155-a71b-96dc3b0b7055",
   "metadata": {},
   "source": [
    "# Summarize why model validator identified this as an issue and recap the agreed remediation plan"
   ]
  },
  {
   "cell_type": "markdown",
   "id": "d8267c94-1ff4-4622-873a-7d5718d60f20",
   "metadata": {},
   "source": [
    "Why MRM Identified the Issue\n",
    "Model Risk Management (MRM) highlighted the absence of equity sensitivities in LITES PAA as a control weakness. While the model correctly valued equity-linked XVA exposures, the inability to attribute P&L to equity risk factors meant that equity-driven movements appeared as unexplained P&L. This weakened performance monitoring and created the risk that material equity exposures could go undetected.\n",
    "\n",
    "Agreed Remediation Plan\n",
    "To address this, Model Developers enhanced LITES to include equity delta shocks for counterparties with single-name exposures (covering ~95% of equity risk). VPC committed to monitor equity P&L attribution monthly against defined thresholds (≥85% single-name coverage and ≤USD 10k materiality). If these thresholds are breached, further equity risk shocks will be implemented. The monitoring results will be reported through VPC’s monthly XVA Operational Control Summary."
   ]
  },
  {
   "cell_type": "markdown",
   "id": "294ab8a3-d7a9-43f3-b96c-8e2d2b82ace5",
   "metadata": {},
   "source": [
    "The agreed remediation plan required the Model Developers (MD) to establish a process for monitoring the materiality of the equity component of XVA and to introduce additional risk shocks should monitoring results demonstrate that further action is necessary. In alignment with this plan, functionality was implemented in the July 25, 2025 LITES release to incorporate equity delta risks for counterparties with exposure to a single equity ticker into the XVA PAA output. This enhancement is expected to trigger a review under MOD-28848-v3.00-MET-07186 and will be submitted to Model Risk Management (MRM) through Valuation Product Control’s (VPC) month-end trigger monitoring process. In addition, VPC has established a recurring control to monitor the aggregate equity risk profile and to report results within its monthly XVA Operational Control Summary."
   ]
  },
  {
   "cell_type": "markdown",
   "id": "484170bf-8ec8-405d-b45a-eafb75916b03",
   "metadata": {},
   "source": [
    "As documented in the prior MRM validation report, XVA PAA for equities was not computed because the system lacked the capability to generate risk sensitivities through a parallel shift of all equity underliers. This limitation was considered acceptable at the time, as the primary source of equity risk originated from ECCH trades, which are excluded from LITES and managed separately by VPC. The residual equity-related XVA within LITES was demonstrated to be immaterial. MRM therefore recommended that the trading desk continue to monitor the XVA contribution from equity trades to confirm it remains negligible and take corrective action if the exposure becomes material."
   ]
  },
  {
   "cell_type": "markdown",
   "id": "82769963-c9a9-4614-b017-c2796bae8b3b",
   "metadata": {},
   "source": [
    "MR Review of Remediation Package\n",
    "\n",
    "Model Risk (MR) has reviewed the remediation package submitted by Model Development (MD) in relation to the incorporation of single-name equity delta shocks into the XVA PAA. The package contained documentation describing the prior limitation whereby equity delta risk was excluded from PAA runs, as well as evidence that single-ticker equity exposures account for approximately 95% of the total equity delta risk. MD also introduced quantitative monitoring thresholds, requiring that equity delta for single-ticker exposures remain at or above 85% of total equity delta risk and that the overall materiality of residual equity risk be no greater than USD 10,000. In addition, MD provided illustrative results, including Table 1, which demonstrated improved PAA attribution when equity delta shocks were included, and described the governance framework under which these metrics will be monitored, specifically through the VPC operational control summary and the month-end trigger review process.\n",
    "\n",
    "In terms of comprehensiveness, MR considers the remediation package to be satisfactory, as it directly addresses the original issue by extending PAA coverage to the equity delta risk that constitutes the majority of overall exposure. Furthermore, the design of monitoring thresholds and the inclusion of escalation procedures enhance the robustness of the remediation and provide adequate control mechanisms. MR does note, however, that the remediation is limited in scope to single-name equity exposures and does not currently extend to multi-name or more complex equity products, such as WWR TRS, capped calls, or call spreads, although these represent a relatively small share of overall risk at present.\n",
    "\n",
    "With respect to accuracy, MR has reviewed the evidence and testing provided by MD and finds them to be reliable. The results presented in Table 1 are consistent with expectations, showing that the inclusion of equity delta risk materially reduces unexplained PAA and thereby improves attribution quality. The 95% coverage estimate and the application of the 85% monitoring threshold are appropriately supported by the data submitted. MR did not identify inaccuracies in the evidence provided, although it is noted that unexplained PAA values for certain counterparties, such as the USD 32k residual for AKAMT, remain material. While this does not undermine the validity of the remediation, continued monitoring will be important to ensure attribution quality remains acceptable, particularly if exposures to more complex equity products increase in materiality.\n",
    "\n",
    "On balance, MR concludes that the remediation package submitted by MD is both comprehensive and accurate. No further validation findings are raised at this stage, subject to ongoing monitoring of the thresholds and governance controls described."
   ]
  }
 ],
 "metadata": {
  "kernelspec": {
   "display_name": "Python 3 (ipykernel)",
   "language": "python",
   "name": "python3"
  },
  "language_info": {
   "codemirror_mode": {
    "name": "ipython",
    "version": 3
   },
   "file_extension": ".py",
   "mimetype": "text/x-python",
   "name": "python",
   "nbconvert_exporter": "python",
   "pygments_lexer": "ipython3",
   "version": "3.12.7"
  }
 },
 "nbformat": 4,
 "nbformat_minor": 5
}
